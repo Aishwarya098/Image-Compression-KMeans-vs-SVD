{
 "cells": [
  {
   "cell_type": "code",
   "execution_count": 2,
   "metadata": {},
   "outputs": [],
   "source": [
    "from math import log10, sqrt\n",
    "import cv2\n",
    "import numpy as np\n",
    "import os\n",
    "from skimage.metrics import structural_similarity as ssim\n",
    "import argparse"
   ]
  },
  {
   "cell_type": "code",
   "execution_count": 3,
   "metadata": {},
   "outputs": [],
   "source": [
    "def get_file_size(file_path):\n",
    "    size = os.path.getsize(file_path)\n",
    "    return size\n",
    "\n",
    "def PSNR(original, compressed):\n",
    "    mse = np.mean((original - compressed) ** 2)\n",
    "    if(mse == 0):  \n",
    "        return 100\n",
    "    max_pixel = 255.0\n",
    "    psnr = 20 * log10(max_pixel / sqrt(mse))\n",
    "    return psnr"
   ]
  },
  {
   "cell_type": "code",
   "execution_count": 4,
   "metadata": {},
   "outputs": [
    {
     "name": "stdout",
     "output_type": "stream",
     "text": [
      "Compression Ratio is 10.67\n",
      "PSNR value is 29.39 dB\n",
      "SSIM value is 0.73\n"
     ]
    }
   ],
   "source": [
    "original = cv2.imread(\"lena.png\")\n",
    "compressed = cv2.imread(\"lena5.png\",1)\n",
    "\n",
    "value = PSNR(original, compressed)\n",
    "value = round(value,2)\n",
    "\n",
    "s = ssim(original, compressed,multichannel=True)\n",
    "s=round(s,2)\n",
    "\n",
    "cr = get_file_size('lena.png')/get_file_size('lena5.png')\n",
    "cr = round(cr,2)\n",
    "\n",
    "print(f\"Compression Ratio is {cr}\")\n",
    "print(f\"PSNR value is {value} dB\")\n",
    "print(f\"SSIM value is {s}\")"
   ]
  },
  {
   "cell_type": "code",
   "execution_count": 5,
   "metadata": {},
   "outputs": [
    {
     "name": "stdout",
     "output_type": "stream",
     "text": [
      "Compression Ratio is 6.4\n",
      "PSNR value is 30.27 dB\n",
      "SSIM value is 0.77\n"
     ]
    }
   ],
   "source": [
    "original = cv2.imread(\"lena.png\")\n",
    "compressed = cv2.imread(\"lena10.png\",1)\n",
    "\n",
    "value = PSNR(original, compressed)\n",
    "value = round(value,2)\n",
    "\n",
    "s = ssim(original, compressed,multichannel=True)\n",
    "s=round(s,2)\n",
    "\n",
    "cr = get_file_size('lena.png')/get_file_size('lena10.png')\n",
    "cr = round(cr,2)\n",
    "\n",
    "print(f\"Compression Ratio is {cr}\")\n",
    "print(f\"PSNR value is {value} dB\")\n",
    "print(f\"SSIM value is {s}\")"
   ]
  },
  {
   "cell_type": "code",
   "execution_count": 6,
   "metadata": {},
   "outputs": [
    {
     "name": "stdout",
     "output_type": "stream",
     "text": [
      "Compression Ratio is 3.68\n",
      "PSNR value is 31.57 dB\n",
      "SSIM value is 0.83\n"
     ]
    }
   ],
   "source": [
    "original = cv2.imread(\"lena.png\")\n",
    "compressed = cv2.imread(\"lena20.png\",1)\n",
    "\n",
    "value = PSNR(original, compressed)\n",
    "value = round(value,2)\n",
    "\n",
    "s = ssim(original, compressed,multichannel=True)\n",
    "s=round(s,2)\n",
    "\n",
    "cr = get_file_size('lena.png')/get_file_size('lena20.png')\n",
    "cr = round(cr,2)\n",
    "\n",
    "print(f\"Compression Ratio is {cr}\")\n",
    "print(f\"PSNR value is {value} dB\")\n",
    "print(f\"SSIM value is {s}\")"
   ]
  },
  {
   "cell_type": "code",
   "execution_count": 7,
   "metadata": {},
   "outputs": [
    {
     "name": "stdout",
     "output_type": "stream",
     "text": [
      "Compression Ratio is 2.79\n",
      "PSNR value is 32.56 dB\n",
      "SSIM value is 0.86\n"
     ]
    }
   ],
   "source": [
    "original = cv2.imread(\"lena.png\")\n",
    "compressed = cv2.imread(\"lena30.png\",1)\n",
    "\n",
    "value = PSNR(original, compressed)\n",
    "value = round(value,2)\n",
    "\n",
    "s = ssim(original, compressed,multichannel=True)\n",
    "s=round(s,2)\n",
    "\n",
    "cr = get_file_size('lena.png')/get_file_size('lena30.png')\n",
    "cr = round(cr,2)\n",
    "\n",
    "print(f\"Compression Ratio is {cr}\")\n",
    "print(f\"PSNR value is {value} dB\")\n",
    "print(f\"SSIM value is {s}\")"
   ]
  },
  {
   "cell_type": "code",
   "execution_count": 8,
   "metadata": {},
   "outputs": [
    {
     "name": "stdout",
     "output_type": "stream",
     "text": [
      "Compression Ratio is 1.87\n",
      "PSNR value is 34.25 dB\n",
      "SSIM value is 0.9\n"
     ]
    }
   ],
   "source": [
    "original = cv2.imread(\"lena.png\")\n",
    "compressed = cv2.imread(\"lena60.png\",1)\n",
    "\n",
    "value = PSNR(original, compressed)\n",
    "value = round(value,2)\n",
    "\n",
    "s = ssim(original, compressed,multichannel=True)\n",
    "s=round(s,2)\n",
    "\n",
    "cr = get_file_size('lena.png')/get_file_size('lena60.png')\n",
    "cr = round(cr,2)\n",
    "\n",
    "print(f\"Compression Ratio is {cr}\")\n",
    "print(f\"PSNR value is {value} dB\")\n",
    "print(f\"SSIM value is {s}\")"
   ]
  },
  {
   "cell_type": "code",
   "execution_count": 9,
   "metadata": {},
   "outputs": [
    {
     "name": "stdout",
     "output_type": "stream",
     "text": [
      "Compression Ratio is 8.63\n",
      "PSNR value is 28.42 dB\n",
      "SSIM value is 0.67\n"
     ]
    }
   ],
   "source": [
    "original = cv2.imread(\"baboon.png\")\n",
    "compressed = cv2.imread(\"baboon5.png\",1)\n",
    "\n",
    "value = PSNR(original, compressed)\n",
    "value = round(value,2)\n",
    "\n",
    "s = ssim(original, compressed,multichannel=True)\n",
    "s=round(s,2)\n",
    "\n",
    "cr = get_file_size('baboon.png')/get_file_size('baboon5.png')\n",
    "cr = round(cr,2)\n",
    "\n",
    "print(f\"Compression Ratio is {cr}\")\n",
    "print(f\"PSNR value is {value} dB\")\n",
    "print(f\"SSIM value is {s}\")"
   ]
  },
  {
   "cell_type": "code",
   "execution_count": 10,
   "metadata": {},
   "outputs": [
    {
     "name": "stdout",
     "output_type": "stream",
     "text": [
      "Compression Ratio is 5.44\n",
      "PSNR value is 28.9 dB\n",
      "SSIM value is 0.76\n"
     ]
    }
   ],
   "source": [
    "original = cv2.imread(\"baboon.png\")\n",
    "compressed = cv2.imread(\"baboon10.png\",1)\n",
    "\n",
    "value = PSNR(original, compressed)\n",
    "value = round(value,2)\n",
    "\n",
    "s = ssim(original, compressed,multichannel=True)\n",
    "s=round(s,2)\n",
    "\n",
    "cr = get_file_size('baboon.png')/get_file_size('baboon10.png')\n",
    "cr = round(cr,2)\n",
    "\n",
    "print(f\"Compression Ratio is {cr}\")\n",
    "print(f\"PSNR value is {value} dB\")\n",
    "print(f\"SSIM value is {s}\")"
   ]
  },
  {
   "cell_type": "code",
   "execution_count": 11,
   "metadata": {},
   "outputs": [
    {
     "name": "stdout",
     "output_type": "stream",
     "text": [
      "Compression Ratio is 3.38\n",
      "PSNR value is 29.41 dB\n",
      "SSIM value is 0.83\n"
     ]
    }
   ],
   "source": [
    "original = cv2.imread(\"baboon.png\")\n",
    "compressed = cv2.imread(\"baboon20.png\",1)\n",
    "\n",
    "value = PSNR(original, compressed)\n",
    "value = round(value,2)\n",
    "\n",
    "s = ssim(original, compressed,multichannel=True)\n",
    "s=round(s,2)\n",
    "\n",
    "cr = get_file_size('baboon.png')/get_file_size('baboon20.png')\n",
    "cr = round(cr,2)\n",
    "\n",
    "print(f\"Compression Ratio is {cr}\")\n",
    "print(f\"PSNR value is {value} dB\")\n",
    "print(f\"SSIM value is {s}\")"
   ]
  },
  {
   "cell_type": "code",
   "execution_count": 12,
   "metadata": {},
   "outputs": [
    {
     "name": "stdout",
     "output_type": "stream",
     "text": [
      "Compression Ratio is 2.56\n",
      "PSNR value is 29.8 dB\n",
      "SSIM value is 0.86\n"
     ]
    }
   ],
   "source": [
    "original = cv2.imread(\"baboon.png\")\n",
    "compressed = cv2.imread(\"baboon30.png\",1)\n",
    "\n",
    "value = PSNR(original, compressed)\n",
    "value = round(value,2)\n",
    "\n",
    "s = ssim(original, compressed,multichannel=True)\n",
    "s=round(s,2)\n",
    "\n",
    "cr = get_file_size('baboon.png')/get_file_size('baboon30.png')\n",
    "cr = round(cr,2)\n",
    "\n",
    "print(f\"Compression Ratio is {cr}\")\n",
    "print(f\"PSNR value is {value} dB\")\n",
    "print(f\"SSIM value is {s}\")"
   ]
  },
  {
   "cell_type": "code",
   "execution_count": 13,
   "metadata": {},
   "outputs": [
    {
     "name": "stdout",
     "output_type": "stream",
     "text": [
      "Compression Ratio is 1.77\n",
      "PSNR value is 30.62 dB\n",
      "SSIM value is 0.9\n"
     ]
    }
   ],
   "source": [
    "original = cv2.imread(\"baboon.png\")\n",
    "compressed = cv2.imread(\"baboon60.png\",1)\n",
    "\n",
    "value = PSNR(original, compressed)\n",
    "value = round(value,2)\n",
    "\n",
    "s = ssim(original, compressed,multichannel=True)\n",
    "s=round(s,2)\n",
    "\n",
    "cr = get_file_size('baboon.png')/get_file_size('baboon60.png')\n",
    "cr = round(cr,2)\n",
    "\n",
    "print(f\"Compression Ratio is {cr}\")\n",
    "print(f\"PSNR value is {value} dB\")\n",
    "print(f\"SSIM value is {s}\")"
   ]
  },
  {
   "cell_type": "code",
   "execution_count": 14,
   "metadata": {},
   "outputs": [
    {
     "name": "stdout",
     "output_type": "stream",
     "text": [
      "Compression Ratio is 12.93\n",
      "PSNR value is 29.18 dB\n",
      "SSIM value is 0.7\n"
     ]
    }
   ],
   "source": [
    "original = cv2.imread(\"flower.png\")\n",
    "compressed = cv2.imread(\"flower5.png\",1)\n",
    "\n",
    "value = PSNR(original, compressed)\n",
    "value = round(value,2)\n",
    "\n",
    "s = ssim(original, compressed,multichannel=True)\n",
    "s=round(s,2)\n",
    "\n",
    "cr = get_file_size('flower.png')/get_file_size('flower5.png')\n",
    "cr = round(cr,2)\n",
    "\n",
    "print(f\"Compression Ratio is {cr}\")\n",
    "print(f\"PSNR value is {value} dB\")\n",
    "print(f\"SSIM value is {s}\")"
   ]
  },
  {
   "cell_type": "code",
   "execution_count": 15,
   "metadata": {},
   "outputs": [
    {
     "name": "stdout",
     "output_type": "stream",
     "text": [
      "Compression Ratio is 7.25\n",
      "PSNR value is 30.29 dB\n",
      "SSIM value is 0.75\n"
     ]
    }
   ],
   "source": [
    "original = cv2.imread(\"flower.png\")\n",
    "compressed = cv2.imread(\"flower10.png\",1)\n",
    "\n",
    "value = PSNR(original, compressed)\n",
    "value = round(value,2)\n",
    "\n",
    "s = ssim(original, compressed,multichannel=True)\n",
    "s=round(s,2)\n",
    "\n",
    "cr = get_file_size('flower.png')/get_file_size('flower10.png')\n",
    "cr = round(cr,2)\n",
    "\n",
    "print(f\"Compression Ratio is {cr}\")\n",
    "print(f\"PSNR value is {value} dB\")\n",
    "print(f\"SSIM value is {s}\")"
   ]
  },
  {
   "cell_type": "code",
   "execution_count": 16,
   "metadata": {},
   "outputs": [
    {
     "name": "stdout",
     "output_type": "stream",
     "text": [
      "Compression Ratio is 4.47\n",
      "PSNR value is 31.43 dB\n",
      "SSIM value is 0.81\n"
     ]
    }
   ],
   "source": [
    "original = cv2.imread(\"flower.png\")\n",
    "compressed = cv2.imread(\"flower20.png\",1)\n",
    "\n",
    "value = PSNR(original, compressed)\n",
    "value = round(value,2)\n",
    "\n",
    "s = ssim(original, compressed,multichannel=True)\n",
    "s=round(s,2)\n",
    "\n",
    "cr = get_file_size('flower.png')/get_file_size('flower20.png')\n",
    "cr = round(cr,2)\n",
    "\n",
    "print(f\"Compression Ratio is {cr}\")\n",
    "print(f\"PSNR value is {value} dB\")\n",
    "print(f\"SSIM value is {s}\")"
   ]
  },
  {
   "cell_type": "code",
   "execution_count": 17,
   "metadata": {},
   "outputs": [
    {
     "name": "stdout",
     "output_type": "stream",
     "text": [
      "Compression Ratio is 3.59\n",
      "PSNR value is 32.03 dB\n",
      "SSIM value is 0.82\n"
     ]
    }
   ],
   "source": [
    "original = cv2.imread(\"flower.png\")\n",
    "compressed = cv2.imread(\"flower30.png\",1)\n",
    "\n",
    "value = PSNR(original, compressed)\n",
    "value = round(value,2)\n",
    "\n",
    "s = ssim(original, compressed,multichannel=True)\n",
    "s=round(s,2)\n",
    "\n",
    "cr = get_file_size('flower.png')/get_file_size('flower30.png')\n",
    "cr = round(cr,2)\n",
    "\n",
    "print(f\"Compression Ratio is {cr}\")\n",
    "print(f\"PSNR value is {value} dB\")\n",
    "print(f\"SSIM value is {s}\")"
   ]
  },
  {
   "cell_type": "code",
   "execution_count": 18,
   "metadata": {},
   "outputs": [
    {
     "name": "stdout",
     "output_type": "stream",
     "text": [
      "Compression Ratio is 2.3\n",
      "PSNR value is 33.53 dB\n",
      "SSIM value is 0.87\n"
     ]
    }
   ],
   "source": [
    "original = cv2.imread(\"flower.png\")\n",
    "compressed = cv2.imread(\"flower60.png\",1)\n",
    "\n",
    "value = PSNR(original, compressed)\n",
    "value = round(value,2)\n",
    "\n",
    "s = ssim(original, compressed,multichannel=True)\n",
    "s=round(s,2)\n",
    "\n",
    "cr = get_file_size('flower.png')/get_file_size('flower60.png')\n",
    "cr = round(cr,2)\n",
    "\n",
    "print(f\"Compression Ratio is {cr}\")\n",
    "print(f\"PSNR value is {value} dB\")\n",
    "print(f\"SSIM value is {s}\")"
   ]
  },
  {
   "cell_type": "code",
   "execution_count": 19,
   "metadata": {},
   "outputs": [
    {
     "name": "stdout",
     "output_type": "stream",
     "text": [
      "Compression Ratio is 7.05\n",
      "PSNR value is 29.05 dB\n",
      "SSIM value is 0.74\n"
     ]
    }
   ],
   "source": [
    "original = cv2.imread(\"bird.png\")\n",
    "compressed = cv2.imread(\"bird10.png\",1)\n",
    "\n",
    "value = PSNR(original, compressed)\n",
    "value = round(value,2)\n",
    "\n",
    "s = ssim(original, compressed,multichannel=True)\n",
    "s=round(s,2)\n",
    "\n",
    "cr = get_file_size('bird.png')/get_file_size('bird10.png')\n",
    "cr = round(cr,2)\n",
    "\n",
    "print(f\"Compression Ratio is {cr}\")\n",
    "print(f\"PSNR value is {value} dB\")\n",
    "print(f\"SSIM value is {s}\")"
   ]
  },
  {
   "cell_type": "code",
   "execution_count": 20,
   "metadata": {},
   "outputs": [
    {
     "name": "stdout",
     "output_type": "stream",
     "text": [
      "Compression Ratio is 3.55\n",
      "PSNR value is 30.67 dB\n",
      "SSIM value is 0.83\n"
     ]
    }
   ],
   "source": [
    "original = cv2.imread(\"bird.png\")\n",
    "compressed = cv2.imread(\"bird30.png\",1)\n",
    "\n",
    "value = PSNR(original, compressed)\n",
    "value = round(value,2)\n",
    "\n",
    "s = ssim(original, compressed,multichannel=True)\n",
    "s=round(s,2)\n",
    "\n",
    "cr = get_file_size('bird.png')/get_file_size('bird30.png')\n",
    "cr = round(cr,2)\n",
    "\n",
    "print(f\"Compression Ratio is {cr}\")\n",
    "print(f\"PSNR value is {value} dB\")\n",
    "print(f\"SSIM value is {s}\")"
   ]
  },
  {
   "cell_type": "code",
   "execution_count": 21,
   "metadata": {},
   "outputs": [
    {
     "name": "stdout",
     "output_type": "stream",
     "text": [
      "Compression Ratio is 2.53\n",
      "PSNR value is 31.83 dB\n",
      "SSIM value is 0.87\n"
     ]
    }
   ],
   "source": [
    "original = cv2.imread(\"bird.png\")\n",
    "compressed = cv2.imread(\"bird60.png\",1)\n",
    "\n",
    "value = PSNR(original, compressed)\n",
    "value = round(value,2)\n",
    "\n",
    "s = ssim(original, compressed,multichannel=True)\n",
    "s=round(s,2)\n",
    "\n",
    "cr = get_file_size('bird.png')/get_file_size('bird60.png')\n",
    "cr = round(cr,2)\n",
    "\n",
    "print(f\"Compression Ratio is {cr}\")\n",
    "print(f\"PSNR value is {value} dB\")\n",
    "print(f\"SSIM value is {s}\")"
   ]
  },
  {
   "cell_type": "code",
   "execution_count": 22,
   "metadata": {},
   "outputs": [
    {
     "name": "stdout",
     "output_type": "stream",
     "text": [
      "Compression Ratio is 7.75\n",
      "PSNR value is 29.76 dB\n",
      "SSIM value is 0.7\n"
     ]
    }
   ],
   "source": [
    "original = cv2.imread(\"fish.png\")\n",
    "compressed = cv2.imread(\"fish10.png\",1)\n",
    "\n",
    "value = PSNR(original, compressed)\n",
    "value = round(value,2)\n",
    "\n",
    "s = ssim(original, compressed,multichannel=True)\n",
    "s=round(s,2)\n",
    "\n",
    "cr = get_file_size('fish.png')/get_file_size('fish10.png')\n",
    "cr = round(cr,2)\n",
    "\n",
    "print(f\"Compression Ratio is {cr}\")\n",
    "print(f\"PSNR value is {value} dB\")\n",
    "print(f\"SSIM value is {s}\")"
   ]
  },
  {
   "cell_type": "code",
   "execution_count": 23,
   "metadata": {},
   "outputs": [
    {
     "name": "stdout",
     "output_type": "stream",
     "text": [
      "Compression Ratio is 2.83\n",
      "PSNR value is 31.33 dB\n",
      "SSIM value is 0.82\n"
     ]
    }
   ],
   "source": [
    "original = cv2.imread(\"fish.png\")\n",
    "compressed = cv2.imread(\"fish30.png\",1)\n",
    "\n",
    "value = PSNR(original, compressed)\n",
    "value = round(value,2)\n",
    "\n",
    "s = ssim(original, compressed,multichannel=True)\n",
    "s=round(s,2)\n",
    "\n",
    "cr = get_file_size('fish.png')/get_file_size('fish30.png')\n",
    "cr = round(cr,2)\n",
    "\n",
    "print(f\"Compression Ratio is {cr}\")\n",
    "print(f\"PSNR value is {value} dB\")\n",
    "print(f\"SSIM value is {s}\")"
   ]
  },
  {
   "cell_type": "code",
   "execution_count": 24,
   "metadata": {},
   "outputs": [
    {
     "name": "stdout",
     "output_type": "stream",
     "text": [
      "Compression Ratio is 1.98\n",
      "PSNR value is 32.56 dB\n",
      "SSIM value is 0.87\n"
     ]
    }
   ],
   "source": [
    "original = cv2.imread(\"fish.png\")\n",
    "compressed = cv2.imread(\"fish60.png\",1)\n",
    "\n",
    "value = PSNR(original, compressed)\n",
    "value = round(value,2)\n",
    "\n",
    "s = ssim(original, compressed,multichannel=True)\n",
    "s=round(s,2)\n",
    "\n",
    "cr = get_file_size('fish.png')/get_file_size('fish60.png')\n",
    "cr = round(cr,2)\n",
    "\n",
    "print(f\"Compression Ratio is {cr}\")\n",
    "print(f\"PSNR value is {value} dB\")\n",
    "print(f\"SSIM value is {s}\")"
   ]
  },
  {
   "cell_type": "code",
   "execution_count": 25,
   "metadata": {},
   "outputs": [
    {
     "name": "stdout",
     "output_type": "stream",
     "text": [
      "Compression Ratio is 2.75\n",
      "PSNR value is 31.82 dB\n",
      "SSIM value is 0.91\n"
     ]
    }
   ],
   "source": [
    "original = cv2.imread(\"lion.png\")\n",
    "compressed = cv2.imread(\"lion10.png\",1)\n",
    "\n",
    "value = PSNR(original, compressed)\n",
    "value = round(value,2)\n",
    "\n",
    "s = ssim(original, compressed,multichannel=True)\n",
    "s=round(s,2)\n",
    "\n",
    "cr = get_file_size('lion.png')/get_file_size('lion10.png')\n",
    "cr = round(cr,2)\n",
    "\n",
    "print(f\"Compression Ratio is {cr}\")\n",
    "print(f\"PSNR value is {value} dB\")\n",
    "print(f\"SSIM value is {s}\")"
   ]
  },
  {
   "cell_type": "code",
   "execution_count": 26,
   "metadata": {},
   "outputs": [
    {
     "name": "stdout",
     "output_type": "stream",
     "text": [
      "Compression Ratio is 1.54\n",
      "PSNR value is 35.05 dB\n",
      "SSIM value is 0.96\n"
     ]
    }
   ],
   "source": [
    "original = cv2.imread(\"lion.png\")\n",
    "compressed = cv2.imread(\"lion30.png\",1)\n",
    "\n",
    "value = PSNR(original, compressed)\n",
    "value = round(value,2)\n",
    "\n",
    "s = ssim(original, compressed,multichannel=True)\n",
    "s=round(s,2)\n",
    "\n",
    "cr = get_file_size('lion.png')/get_file_size('lion30.png')\n",
    "cr = round(cr,2)\n",
    "\n",
    "print(f\"Compression Ratio is {cr}\")\n",
    "print(f\"PSNR value is {value} dB\")\n",
    "print(f\"SSIM value is {s}\")"
   ]
  },
  {
   "cell_type": "code",
   "execution_count": 27,
   "metadata": {},
   "outputs": [
    {
     "name": "stdout",
     "output_type": "stream",
     "text": [
      "Compression Ratio is 1.18\n",
      "PSNR value is 37.07 dB\n",
      "SSIM value is 0.97\n"
     ]
    }
   ],
   "source": [
    "original = cv2.imread(\"lion.png\")\n",
    "compressed = cv2.imread(\"lion60.png\",1)\n",
    "\n",
    "value = PSNR(original, compressed)\n",
    "value = round(value,2)\n",
    "\n",
    "s = ssim(original, compressed,multichannel=True)\n",
    "s=round(s,2)\n",
    "\n",
    "cr = get_file_size('lion.png')/get_file_size('lion60.png')\n",
    "cr = round(cr,2)\n",
    "\n",
    "print(f\"Compression Ratio is {cr}\")\n",
    "print(f\"PSNR value is {value} dB\")\n",
    "print(f\"SSIM value is {s}\")"
   ]
  },
  {
   "cell_type": "code",
   "execution_count": 28,
   "metadata": {},
   "outputs": [
    {
     "name": "stdout",
     "output_type": "stream",
     "text": [
      "Compression Ratio is 10.74\n",
      "PSNR value is 29.03 dB\n",
      "SSIM value is 0.74\n"
     ]
    }
   ],
   "source": [
    "original = cv2.imread(\"parrot.png\")\n",
    "compressed = cv2.imread(\"parrot10.png\",1)\n",
    "\n",
    "value = PSNR(original, compressed)\n",
    "value = round(value,2)\n",
    "\n",
    "s = ssim(original, compressed,multichannel=True)\n",
    "s=round(s,2)\n",
    "\n",
    "cr = get_file_size('parrot.png')/get_file_size('parrot10.png')\n",
    "cr = round(cr,2)\n",
    "\n",
    "print(f\"Compression Ratio is {cr}\")\n",
    "print(f\"PSNR value is {value} dB\")\n",
    "print(f\"SSIM value is {s}\")"
   ]
  },
  {
   "cell_type": "code",
   "execution_count": 29,
   "metadata": {},
   "outputs": [
    {
     "name": "stdout",
     "output_type": "stream",
     "text": [
      "Compression Ratio is 5.34\n",
      "PSNR value is 30.6 dB\n",
      "SSIM value is 0.8\n"
     ]
    }
   ],
   "source": [
    "original = cv2.imread(\"parrot.png\")\n",
    "compressed = cv2.imread(\"parrot30.png\",1)\n",
    "\n",
    "value = PSNR(original, compressed)\n",
    "value = round(value,2)\n",
    "\n",
    "s = ssim(original, compressed,multichannel=True)\n",
    "s=round(s,2)\n",
    "\n",
    "cr = get_file_size('parrot.png')/get_file_size('parrot30.png')\n",
    "cr = round(cr,2)\n",
    "\n",
    "print(f\"Compression Ratio is {cr}\")\n",
    "print(f\"PSNR value is {value} dB\")\n",
    "print(f\"SSIM value is {s}\")"
   ]
  },
  {
   "cell_type": "code",
   "execution_count": 30,
   "metadata": {},
   "outputs": [
    {
     "name": "stdout",
     "output_type": "stream",
     "text": [
      "Compression Ratio is 3.78\n",
      "PSNR value is 31.81 dB\n",
      "SSIM value is 0.84\n"
     ]
    }
   ],
   "source": [
    "original = cv2.imread(\"parrot.png\")\n",
    "compressed = cv2.imread(\"parrot60.png\",1)\n",
    "\n",
    "value = PSNR(original, compressed)\n",
    "value = round(value,2)\n",
    "\n",
    "s = ssim(original, compressed,multichannel=True)\n",
    "s=round(s,2)\n",
    "\n",
    "cr = get_file_size('parrot.png')/get_file_size('parrot60.png')\n",
    "cr = round(cr,2)\n",
    "\n",
    "print(f\"Compression Ratio is {cr}\")\n",
    "print(f\"PSNR value is {value} dB\")\n",
    "print(f\"SSIM value is {s}\")"
   ]
  },
  {
   "cell_type": "code",
   "execution_count": 31,
   "metadata": {},
   "outputs": [
    {
     "name": "stdout",
     "output_type": "stream",
     "text": [
      "Compression Ratio is 4.01\n",
      "PSNR value is 31.47 dB\n",
      "SSIM value is 0.88\n"
     ]
    }
   ],
   "source": [
    "original = cv2.imread(\"spider.png\")\n",
    "compressed = cv2.imread(\"spider10.png\",1)\n",
    "\n",
    "value = PSNR(original, compressed)\n",
    "value = round(value,2)\n",
    "\n",
    "s = ssim(original, compressed,multichannel=True)\n",
    "s=round(s,2)\n",
    "\n",
    "cr = get_file_size('spider.png')/get_file_size('spider10.png')\n",
    "cr = round(cr,2)\n",
    "\n",
    "print(f\"Compression Ratio is {cr}\")\n",
    "print(f\"PSNR value is {value} dB\")\n",
    "print(f\"SSIM value is {s}\")"
   ]
  },
  {
   "cell_type": "code",
   "execution_count": 32,
   "metadata": {},
   "outputs": [
    {
     "name": "stdout",
     "output_type": "stream",
     "text": [
      "Compression Ratio is 1.69\n",
      "PSNR value is 33.74 dB\n",
      "SSIM value is 0.94\n"
     ]
    }
   ],
   "source": [
    "original = cv2.imread(\"spider.png\")\n",
    "compressed = cv2.imread(\"spider30.png\",1)\n",
    "\n",
    "value = PSNR(original, compressed)\n",
    "value = round(value,2)\n",
    "\n",
    "s = ssim(original, compressed,multichannel=True)\n",
    "s=round(s,2)\n",
    "\n",
    "cr = get_file_size('spider.png')/get_file_size('spider30.png')\n",
    "cr = round(cr,2)\n",
    "\n",
    "print(f\"Compression Ratio is {cr}\")\n",
    "print(f\"PSNR value is {value} dB\")\n",
    "print(f\"SSIM value is {s}\")"
   ]
  },
  {
   "cell_type": "code",
   "execution_count": 33,
   "metadata": {},
   "outputs": [
    {
     "name": "stdout",
     "output_type": "stream",
     "text": [
      "Compression Ratio is 1.29\n",
      "PSNR value is 35.36 dB\n",
      "SSIM value is 0.96\n"
     ]
    }
   ],
   "source": [
    "original = cv2.imread(\"spider.png\")\n",
    "compressed = cv2.imread(\"spider60.png\",1)\n",
    "\n",
    "value = PSNR(original, compressed)\n",
    "value = round(value,2)\n",
    "\n",
    "s = ssim(original, compressed,multichannel=True)\n",
    "s=round(s,2)\n",
    "\n",
    "cr = get_file_size('spider.png')/get_file_size('spider60.png')\n",
    "cr = round(cr,2)\n",
    "\n",
    "print(f\"Compression Ratio is {cr}\")\n",
    "print(f\"PSNR value is {value} dB\")\n",
    "print(f\"SSIM value is {s}\")"
   ]
  },
  {
   "cell_type": "code",
   "execution_count": 34,
   "metadata": {},
   "outputs": [
    {
     "name": "stdout",
     "output_type": "stream",
     "text": [
      "Compression Ratio is 5.34\n",
      "PSNR value is 30.5 dB\n",
      "SSIM value is 0.84\n"
     ]
    }
   ],
   "source": [
    "original = cv2.imread(\"waterfall.png\")\n",
    "compressed = cv2.imread(\"waterfall10.png\",1)\n",
    "\n",
    "value = PSNR(original, compressed)\n",
    "value = round(value,2)\n",
    "\n",
    "s = ssim(original, compressed,multichannel=True)\n",
    "s=round(s,2)\n",
    "\n",
    "cr = get_file_size('waterfall.png')/get_file_size('waterfall10.png')\n",
    "cr = round(cr,2)\n",
    "\n",
    "print(f\"Compression Ratio is {cr}\")\n",
    "print(f\"PSNR value is {value} dB\")\n",
    "print(f\"SSIM value is {s}\")"
   ]
  },
  {
   "cell_type": "code",
   "execution_count": 35,
   "metadata": {},
   "outputs": [
    {
     "name": "stdout",
     "output_type": "stream",
     "text": [
      "Compression Ratio is 2.68\n",
      "PSNR value is 33.21 dB\n",
      "SSIM value is 0.91\n"
     ]
    }
   ],
   "source": [
    "original = cv2.imread(\"waterfall.png\")\n",
    "compressed = cv2.imread(\"waterfall30.png\",1)\n",
    "\n",
    "value = PSNR(original, compressed)\n",
    "value = round(value,2)\n",
    "\n",
    "s = ssim(original, compressed,multichannel=True)\n",
    "s=round(s,2)\n",
    "\n",
    "cr = get_file_size('waterfall.png')/get_file_size('waterfall30.png')\n",
    "cr = round(cr,2)\n",
    "\n",
    "print(f\"Compression Ratio is {cr}\")\n",
    "print(f\"PSNR value is {value} dB\")\n",
    "print(f\"SSIM value is {s}\")"
   ]
  },
  {
   "cell_type": "code",
   "execution_count": 36,
   "metadata": {},
   "outputs": [
    {
     "name": "stdout",
     "output_type": "stream",
     "text": [
      "Compression Ratio is 1.9\n",
      "PSNR value is 35.44 dB\n",
      "SSIM value is 0.94\n"
     ]
    }
   ],
   "source": [
    "original = cv2.imread(\"waterfall.png\")\n",
    "compressed = cv2.imread(\"waterfall60.png\",1)\n",
    "\n",
    "value = PSNR(original, compressed)\n",
    "value = round(value,2)\n",
    "\n",
    "s = ssim(original, compressed,multichannel=True)\n",
    "s=round(s,2)\n",
    "\n",
    "cr = get_file_size('waterfall.png')/get_file_size('waterfall60.png')\n",
    "cr = round(cr,2)\n",
    "\n",
    "print(f\"Compression Ratio is {cr}\")\n",
    "print(f\"PSNR value is {value} dB\")\n",
    "print(f\"SSIM value is {s}\")"
   ]
  },
  {
   "cell_type": "code",
   "execution_count": null,
   "metadata": {},
   "outputs": [],
   "source": []
  }
 ],
 "metadata": {
  "kernelspec": {
   "display_name": "Python 3",
   "language": "python",
   "name": "python3"
  },
  "language_info": {
   "codemirror_mode": {
    "name": "ipython",
    "version": 3
   },
   "file_extension": ".py",
   "mimetype": "text/x-python",
   "name": "python",
   "nbconvert_exporter": "python",
   "pygments_lexer": "ipython3",
   "version": "3.8.5"
  }
 },
 "nbformat": 4,
 "nbformat_minor": 4
}
