{
 "cells": [
  {
   "cell_type": "code",
   "execution_count": 4,
   "metadata": {},
   "outputs": [],
   "source": [
    "from math import log10, sqrt\n",
    "import cv2\n",
    "import numpy as np\n",
    "import os\n",
    "from skimage.metrics import structural_similarity as ssim\n",
    "import argparse"
   ]
  },
  {
   "cell_type": "code",
   "execution_count": 5,
   "metadata": {},
   "outputs": [],
   "source": [
    "def get_file_size(file_path):\n",
    "    size = os.path.getsize(file_path)\n",
    "    return size\n",
    "\n",
    "def PSNR(original, compressed):\n",
    "    mse = np.mean((original - compressed) ** 2)\n",
    "    if(mse == 0):  \n",
    "        return 100\n",
    "    max_pixel = 255.0\n",
    "    psnr = 20 * log10(max_pixel / sqrt(mse))\n",
    "    return psnr"
   ]
  },
  {
   "cell_type": "code",
   "execution_count": 6,
   "metadata": {},
   "outputs": [
    {
     "name": "stdout",
     "output_type": "stream",
     "text": [
      "Compression Ratio is 2.37\n",
      "PSNR value is 28.88 dB\n",
      "SSIM value is 0.59\n"
     ]
    }
   ],
   "source": [
    "original = cv2.imread(\"lena.jpg\")\n",
    "compressed = cv2.imread(\"lena5.jpg\",1)\n",
    "\n",
    "value = PSNR(original, compressed)\n",
    "value = round(value,2)\n",
    "\n",
    "s = ssim(original, compressed,multichannel=True)\n",
    "s=round(s,2)\n",
    "\n",
    "cr = get_file_size('lena.jpg')/get_file_size('lena5.jpg')\n",
    "cr = round(cr,2)\n",
    "\n",
    "print(f\"Compression Ratio is {cr}\")\n",
    "print(f\"PSNR value is {value} dB\")\n",
    "print(f\"SSIM value is {s}\")"
   ]
  },
  {
   "cell_type": "code",
   "execution_count": 7,
   "metadata": {},
   "outputs": [
    {
     "name": "stdout",
     "output_type": "stream",
     "text": [
      "Compression Ratio is 2.0\n",
      "PSNR value is 29.73 dB\n",
      "SSIM value is 0.64\n"
     ]
    }
   ],
   "source": [
    "original = cv2.imread(\"lena.jpg\")\n",
    "compressed = cv2.imread(\"lena10.jpg\",1)\n",
    "\n",
    "value = PSNR(original, compressed)\n",
    "value = round(value,2)\n",
    "\n",
    "s = ssim(original, compressed,multichannel=True)\n",
    "s=round(s,2)\n",
    "\n",
    "cr = get_file_size('lena.jpg')/get_file_size('lena10.jpg')\n",
    "cr = round(cr,2)\n",
    "\n",
    "print(f\"Compression Ratio is {cr}\")\n",
    "print(f\"PSNR value is {value} dB\")\n",
    "print(f\"SSIM value is {s}\")"
   ]
  },
  {
   "cell_type": "code",
   "execution_count": 8,
   "metadata": {},
   "outputs": [
    {
     "name": "stdout",
     "output_type": "stream",
     "text": [
      "Compression Ratio is 1.68\n",
      "PSNR value is 30.68 dB\n",
      "SSIM value is 0.69\n"
     ]
    }
   ],
   "source": [
    "original = cv2.imread(\"lena.jpg\")\n",
    "compressed = cv2.imread(\"lena20.jpg\",1)\n",
    "\n",
    "value = PSNR(original, compressed)\n",
    "value = round(value,2)\n",
    "\n",
    "s = ssim(original, compressed,multichannel=True)\n",
    "s=round(s,2)\n",
    "\n",
    "cr = get_file_size('lena.jpg')/get_file_size('lena20.jpg')\n",
    "cr = round(cr,2)\n",
    "\n",
    "print(f\"Compression Ratio is {cr}\")\n",
    "print(f\"PSNR value is {value} dB\")\n",
    "print(f\"SSIM value is {s}\")"
   ]
  },
  {
   "cell_type": "code",
   "execution_count": 9,
   "metadata": {},
   "outputs": [
    {
     "name": "stdout",
     "output_type": "stream",
     "text": [
      "Compression Ratio is 1.53\n",
      "PSNR value is 31.51 dB\n",
      "SSIM value is 0.74\n"
     ]
    }
   ],
   "source": [
    "original = cv2.imread(\"lena.jpg\")\n",
    "compressed = cv2.imread(\"lena30.jpg\",1)\n",
    "\n",
    "value = PSNR(original, compressed)\n",
    "value = round(value,2)\n",
    "\n",
    "s = ssim(original, compressed,multichannel=True)\n",
    "s=round(s,2)\n",
    "\n",
    "cr = get_file_size('lena.jpg')/get_file_size('lena30.jpg')\n",
    "cr = round(cr,2)\n",
    "\n",
    "print(f\"Compression Ratio is {cr}\")\n",
    "print(f\"PSNR value is {value} dB\")\n",
    "print(f\"SSIM value is {s}\")"
   ]
  },
  {
   "cell_type": "code",
   "execution_count": 10,
   "metadata": {},
   "outputs": [
    {
     "name": "stdout",
     "output_type": "stream",
     "text": [
      "Compression Ratio is 1.38\n",
      "PSNR value is 33.26 dB\n",
      "SSIM value is 0.84\n"
     ]
    }
   ],
   "source": [
    "original = cv2.imread(\"lena.jpg\")\n",
    "compressed = cv2.imread(\"lena60.jpg\",1)\n",
    "\n",
    "value = PSNR(original, compressed)\n",
    "value = round(value,2)\n",
    "\n",
    "s = ssim(original, compressed,multichannel=True)\n",
    "s=round(s,2)\n",
    "\n",
    "cr = get_file_size('lena.jpg')/get_file_size('lena60.jpg')\n",
    "cr = round(cr,2)\n",
    "\n",
    "print(f\"Compression Ratio is {cr}\")\n",
    "print(f\"PSNR value is {value} dB\")\n",
    "print(f\"SSIM value is {s}\")"
   ]
  },
  {
   "cell_type": "code",
   "execution_count": 11,
   "metadata": {},
   "outputs": [
    {
     "name": "stdout",
     "output_type": "stream",
     "text": [
      "Compression Ratio is 3.4\n",
      "PSNR value is 28.45 dB\n",
      "SSIM value is 0.28\n"
     ]
    }
   ],
   "source": [
    "original = cv2.imread(\"baboon.jpg\")\n",
    "compressed = cv2.imread(\"baboon5.jpg\",1)\n",
    "\n",
    "value = PSNR(original, compressed)\n",
    "value = round(value,2)\n",
    "\n",
    "s = ssim(original, compressed,multichannel=True)\n",
    "s=round(s,2)\n",
    "\n",
    "cr = get_file_size('baboon.jpg')/get_file_size('baboon5.jpg')\n",
    "cr = round(cr,2)\n",
    "\n",
    "print(f\"Compression Ratio is {cr}\")\n",
    "print(f\"PSNR value is {value} dB\")\n",
    "print(f\"SSIM value is {s}\")"
   ]
  },
  {
   "cell_type": "code",
   "execution_count": 12,
   "metadata": {},
   "outputs": [
    {
     "name": "stdout",
     "output_type": "stream",
     "text": [
      "Compression Ratio is 2.75\n",
      "PSNR value is 28.67 dB\n",
      "SSIM value is 0.33\n"
     ]
    }
   ],
   "source": [
    "original = cv2.imread(\"baboon.jpg\")\n",
    "compressed = cv2.imread(\"baboon10.jpg\",1)\n",
    "\n",
    "value = PSNR(original, compressed)\n",
    "value = round(value,2)\n",
    "\n",
    "s = ssim(original, compressed,multichannel=True)\n",
    "s=round(s,2)\n",
    "\n",
    "cr = get_file_size('baboon.jpg')/get_file_size('baboon10.jpg')\n",
    "cr = round(cr,2)\n",
    "\n",
    "print(f\"Compression Ratio is {cr}\")\n",
    "print(f\"PSNR value is {value} dB\")\n",
    "print(f\"SSIM value is {s}\")"
   ]
  },
  {
   "cell_type": "code",
   "execution_count": 13,
   "metadata": {},
   "outputs": [
    {
     "name": "stdout",
     "output_type": "stream",
     "text": [
      "Compression Ratio is 2.14\n",
      "PSNR value is 28.84 dB\n",
      "SSIM value is 0.43\n"
     ]
    }
   ],
   "source": [
    "original = cv2.imread(\"baboon.jpg\")\n",
    "compressed = cv2.imread(\"baboon20.jpg\",1)\n",
    "\n",
    "value = PSNR(original, compressed)\n",
    "value = round(value,2)\n",
    "\n",
    "s = ssim(original, compressed,multichannel=True)\n",
    "s=round(s,2)\n",
    "\n",
    "cr = get_file_size('baboon.jpg')/get_file_size('baboon20.jpg')\n",
    "cr = round(cr,2)\n",
    "\n",
    "print(f\"Compression Ratio is {cr}\")\n",
    "print(f\"PSNR value is {value} dB\")\n",
    "print(f\"SSIM value is {s}\")"
   ]
  },
  {
   "cell_type": "code",
   "execution_count": 14,
   "metadata": {},
   "outputs": [
    {
     "name": "stdout",
     "output_type": "stream",
     "text": [
      "Compression Ratio is 1.87\n",
      "PSNR value is 28.93 dB\n",
      "SSIM value is 0.51\n"
     ]
    }
   ],
   "source": [
    "original = cv2.imread(\"baboon.jpg\")\n",
    "compressed = cv2.imread(\"baboon30.jpg\",1)\n",
    "\n",
    "value = PSNR(original, compressed)\n",
    "value = round(value,2)\n",
    "\n",
    "s = ssim(original, compressed,multichannel=True)\n",
    "s=round(s,2)\n",
    "\n",
    "cr = get_file_size('baboon.jpg')/get_file_size('baboon30.jpg')\n",
    "cr = round(cr,2)\n",
    "\n",
    "print(f\"Compression Ratio is {cr}\")\n",
    "print(f\"PSNR value is {value} dB\")\n",
    "print(f\"SSIM value is {s}\")"
   ]
  },
  {
   "cell_type": "code",
   "execution_count": 15,
   "metadata": {},
   "outputs": [
    {
     "name": "stdout",
     "output_type": "stream",
     "text": [
      "Compression Ratio is 1.57\n",
      "PSNR value is 29.28 dB\n",
      "SSIM value is 0.66\n"
     ]
    }
   ],
   "source": [
    "original = cv2.imread(\"baboon.jpg\")\n",
    "compressed = cv2.imread(\"baboon60.jpg\",1)\n",
    "\n",
    "value = PSNR(original, compressed)\n",
    "value = round(value,2)\n",
    "\n",
    "s = ssim(original, compressed,multichannel=True)\n",
    "s=round(s,2)\n",
    "\n",
    "cr = get_file_size('baboon.jpg')/get_file_size('baboon60.jpg')\n",
    "cr = round(cr,2)\n",
    "\n",
    "print(f\"Compression Ratio is {cr}\")\n",
    "print(f\"PSNR value is {value} dB\")\n",
    "print(f\"SSIM value is {s}\")"
   ]
  },
  {
   "cell_type": "code",
   "execution_count": 16,
   "metadata": {},
   "outputs": [
    {
     "name": "stdout",
     "output_type": "stream",
     "text": [
      "Compression Ratio is 2.53\n",
      "PSNR value is 29.03 dB\n",
      "SSIM value is 0.59\n"
     ]
    }
   ],
   "source": [
    "original = cv2.imread(\"flower.jpg\")\n",
    "compressed = cv2.imread(\"flower5.jpg\",1)\n",
    "\n",
    "value = PSNR(original, compressed)\n",
    "value = round(value,2)\n",
    "\n",
    "s = ssim(original, compressed,multichannel=True)\n",
    "s=round(s,2)\n",
    "\n",
    "cr = get_file_size('flower.jpg')/get_file_size('flower5.jpg')\n",
    "cr = round(cr,2)\n",
    "\n",
    "print(f\"Compression Ratio is {cr}\")\n",
    "print(f\"PSNR value is {value} dB\")\n",
    "print(f\"SSIM value is {s}\")"
   ]
  },
  {
   "cell_type": "code",
   "execution_count": 17,
   "metadata": {},
   "outputs": [
    {
     "name": "stdout",
     "output_type": "stream",
     "text": [
      "Compression Ratio is 2.21\n",
      "PSNR value is 29.94 dB\n",
      "SSIM value is 0.62\n"
     ]
    }
   ],
   "source": [
    "original = cv2.imread(\"flower.jpg\")\n",
    "compressed = cv2.imread(\"flower10.jpg\",1)\n",
    "\n",
    "value = PSNR(original, compressed)\n",
    "value = round(value,2)\n",
    "\n",
    "s = ssim(original, compressed,multichannel=True)\n",
    "s=round(s,2)\n",
    "\n",
    "cr = get_file_size('flower.jpg')/get_file_size('flower10.jpg')\n",
    "cr = round(cr,2)\n",
    "\n",
    "print(f\"Compression Ratio is {cr}\")\n",
    "print(f\"PSNR value is {value} dB\")\n",
    "print(f\"SSIM value is {s}\")"
   ]
  },
  {
   "cell_type": "code",
   "execution_count": 18,
   "metadata": {},
   "outputs": [
    {
     "name": "stdout",
     "output_type": "stream",
     "text": [
      "Compression Ratio is 1.85\n",
      "PSNR value is 30.92 dB\n",
      "SSIM value is 0.65\n"
     ]
    }
   ],
   "source": [
    "original = cv2.imread(\"flower.jpg\")\n",
    "compressed = cv2.imread(\"flower20.jpg\",1)\n",
    "\n",
    "value = PSNR(original, compressed)\n",
    "value = round(value,2)\n",
    "\n",
    "s = ssim(original, compressed,multichannel=True)\n",
    "s=round(s,2)\n",
    "\n",
    "cr = get_file_size('flower.jpg')/get_file_size('flower20.jpg')\n",
    "cr = round(cr,2)\n",
    "\n",
    "print(f\"Compression Ratio is {cr}\")\n",
    "print(f\"PSNR value is {value} dB\")\n",
    "print(f\"SSIM value is {s}\")"
   ]
  },
  {
   "cell_type": "code",
   "execution_count": 19,
   "metadata": {},
   "outputs": [
    {
     "name": "stdout",
     "output_type": "stream",
     "text": [
      "Compression Ratio is 1.67\n",
      "PSNR value is 31.6 dB\n",
      "SSIM value is 0.68\n"
     ]
    }
   ],
   "source": [
    "original = cv2.imread(\"flower.jpg\")\n",
    "compressed = cv2.imread(\"flower30.jpg\",1)\n",
    "\n",
    "value = PSNR(original, compressed)\n",
    "value = round(value,2)\n",
    "\n",
    "s = ssim(original, compressed,multichannel=True)\n",
    "s=round(s,2)\n",
    "\n",
    "cr = get_file_size('flower.jpg')/get_file_size('flower30.jpg')\n",
    "cr = round(cr,2)\n",
    "\n",
    "print(f\"Compression Ratio is {cr}\")\n",
    "print(f\"PSNR value is {value} dB\")\n",
    "print(f\"SSIM value is {s}\")"
   ]
  },
  {
   "cell_type": "code",
   "execution_count": 20,
   "metadata": {},
   "outputs": [
    {
     "name": "stdout",
     "output_type": "stream",
     "text": [
      "Compression Ratio is 1.4\n",
      "PSNR value is 32.84 dB\n",
      "SSIM value is 0.74\n"
     ]
    }
   ],
   "source": [
    "original = cv2.imread(\"flower.jpg\")\n",
    "compressed = cv2.imread(\"flower60.jpg\",1)\n",
    "\n",
    "value = PSNR(original, compressed)\n",
    "value = round(value,2)\n",
    "\n",
    "s = ssim(original, compressed,multichannel=True)\n",
    "s=round(s,2)\n",
    "\n",
    "cr = get_file_size('flower.jpg')/get_file_size('flower60.jpg')\n",
    "cr = round(cr,2)\n",
    "\n",
    "print(f\"Compression Ratio is {cr}\")\n",
    "print(f\"PSNR value is {value} dB\")\n",
    "print(f\"SSIM value is {s}\")"
   ]
  },
  {
   "cell_type": "code",
   "execution_count": 21,
   "metadata": {},
   "outputs": [
    {
     "name": "stdout",
     "output_type": "stream",
     "text": [
      "Compression Ratio is 2.4\n",
      "PSNR value is 28.46 dB\n",
      "SSIM value is 0.48\n"
     ]
    }
   ],
   "source": [
    "original = cv2.imread(\"bird.jpg\")\n",
    "compressed = cv2.imread(\"bird10.jpg\",1)\n",
    "\n",
    "value = PSNR(original, compressed)\n",
    "value = round(value,2)\n",
    "\n",
    "s = ssim(original, compressed,multichannel=True)\n",
    "s=round(s,2)\n",
    "\n",
    "cr = get_file_size('bird.jpg')/get_file_size('bird10.jpg')\n",
    "cr = round(cr,2)\n",
    "\n",
    "print(f\"Compression Ratio is {cr}\")\n",
    "print(f\"PSNR value is {value} dB\")\n",
    "print(f\"SSIM value is {s}\")"
   ]
  },
  {
   "cell_type": "code",
   "execution_count": 22,
   "metadata": {},
   "outputs": [
    {
     "name": "stdout",
     "output_type": "stream",
     "text": [
      "Compression Ratio is 1.75\n",
      "PSNR value is 29.71 dB\n",
      "SSIM value is 0.6\n"
     ]
    }
   ],
   "source": [
    "original = cv2.imread(\"bird.jpg\")\n",
    "compressed = cv2.imread(\"bird30.jpg\",1)\n",
    "\n",
    "value = PSNR(original, compressed)\n",
    "value = round(value,2)\n",
    "\n",
    "s = ssim(original, compressed,multichannel=True)\n",
    "s=round(s,2)\n",
    "\n",
    "cr = get_file_size('bird.jpg')/get_file_size('bird30.jpg')\n",
    "cr = round(cr,2)\n",
    "\n",
    "print(f\"Compression Ratio is {cr}\")\n",
    "print(f\"PSNR value is {value} dB\")\n",
    "print(f\"SSIM value is {s}\")"
   ]
  },
  {
   "cell_type": "code",
   "execution_count": 23,
   "metadata": {},
   "outputs": [
    {
     "name": "stdout",
     "output_type": "stream",
     "text": [
      "Compression Ratio is 1.62\n",
      "PSNR value is 31.05 dB\n",
      "SSIM value is 0.7\n"
     ]
    }
   ],
   "source": [
    "original = cv2.imread(\"bird.jpg\")\n",
    "compressed = cv2.imread(\"bird60.jpg\",1)\n",
    "\n",
    "value = PSNR(original, compressed)\n",
    "value = round(value,2)\n",
    "\n",
    "s = ssim(original, compressed,multichannel=True)\n",
    "s=round(s,2)\n",
    "\n",
    "cr = get_file_size('bird.jpg')/get_file_size('bird60.jpg')\n",
    "cr = round(cr,2)\n",
    "\n",
    "print(f\"Compression Ratio is {cr}\")\n",
    "print(f\"PSNR value is {value} dB\")\n",
    "print(f\"SSIM value is {s}\")"
   ]
  },
  {
   "cell_type": "code",
   "execution_count": 24,
   "metadata": {},
   "outputs": [
    {
     "name": "stdout",
     "output_type": "stream",
     "text": [
      "Compression Ratio is 3.05\n",
      "PSNR value is 28.95 dB\n",
      "SSIM value is 0.47\n"
     ]
    }
   ],
   "source": [
    "original = cv2.imread(\"fish.jpg\")\n",
    "compressed = cv2.imread(\"fish10.jpg\",1)\n",
    "\n",
    "value = PSNR(original, compressed)\n",
    "value = round(value,2)\n",
    "\n",
    "s = ssim(original, compressed,multichannel=True)\n",
    "s=round(s,2)\n",
    "\n",
    "cr = get_file_size('fish.jpg')/get_file_size('fish10.jpg')\n",
    "cr = round(cr,2)\n",
    "\n",
    "print(f\"Compression Ratio is {cr}\")\n",
    "print(f\"PSNR value is {value} dB\")\n",
    "print(f\"SSIM value is {s}\")"
   ]
  },
  {
   "cell_type": "code",
   "execution_count": 25,
   "metadata": {},
   "outputs": [
    {
     "name": "stdout",
     "output_type": "stream",
     "text": [
      "Compression Ratio is 2.4\n",
      "PSNR value is 30.06 dB\n",
      "SSIM value is 0.58\n"
     ]
    }
   ],
   "source": [
    "original = cv2.imread(\"fish.jpg\")\n",
    "compressed = cv2.imread(\"fish30.jpg\",1)\n",
    "\n",
    "value = PSNR(original, compressed)\n",
    "value = round(value,2)\n",
    "\n",
    "s = ssim(original, compressed,multichannel=True)\n",
    "s=round(s,2)\n",
    "\n",
    "cr = get_file_size('fish.jpg')/get_file_size('fish30.jpg')\n",
    "cr = round(cr,2)\n",
    "\n",
    "print(f\"Compression Ratio is {cr}\")\n",
    "print(f\"PSNR value is {value} dB\")\n",
    "print(f\"SSIM value is {s}\")"
   ]
  },
  {
   "cell_type": "code",
   "execution_count": 26,
   "metadata": {},
   "outputs": [
    {
     "name": "stdout",
     "output_type": "stream",
     "text": [
      "Compression Ratio is 2.16\n",
      "PSNR value is 31.31 dB\n",
      "SSIM value is 0.69\n"
     ]
    }
   ],
   "source": [
    "original = cv2.imread(\"fish.jpg\")\n",
    "compressed = cv2.imread(\"fish60.jpg\",1)\n",
    "\n",
    "value = PSNR(original, compressed)\n",
    "value = round(value,2)\n",
    "\n",
    "s = ssim(original, compressed,multichannel=True)\n",
    "s=round(s,2)\n",
    "\n",
    "cr = get_file_size('fish.jpg')/get_file_size('fish60.jpg')\n",
    "cr = round(cr,2)\n",
    "\n",
    "print(f\"Compression Ratio is {cr}\")\n",
    "print(f\"PSNR value is {value} dB\")\n",
    "print(f\"SSIM value is {s}\")"
   ]
  },
  {
   "cell_type": "code",
   "execution_count": 27,
   "metadata": {},
   "outputs": [
    {
     "name": "stdout",
     "output_type": "stream",
     "text": [
      "Compression Ratio is 4.47\n",
      "PSNR value is 28.99 dB\n",
      "SSIM value is 0.37\n"
     ]
    }
   ],
   "source": [
    "original = cv2.imread(\"lion.jpg\")\n",
    "compressed = cv2.imread(\"lion10.jpg\",1)\n",
    "\n",
    "value = PSNR(original, compressed)\n",
    "value = round(value,2)\n",
    "\n",
    "s = ssim(original, compressed,multichannel=True)\n",
    "s=round(s,2)\n",
    "\n",
    "cr = get_file_size('lion.jpg')/get_file_size('lion10.jpg')\n",
    "cr = round(cr,2)\n",
    "\n",
    "print(f\"Compression Ratio is {cr}\")\n",
    "print(f\"PSNR value is {value} dB\")\n",
    "print(f\"SSIM value is {s}\")"
   ]
  },
  {
   "cell_type": "code",
   "execution_count": 28,
   "metadata": {},
   "outputs": [
    {
     "name": "stdout",
     "output_type": "stream",
     "text": [
      "Compression Ratio is 3.2\n",
      "PSNR value is 29.61 dB\n",
      "SSIM value is 0.45\n"
     ]
    }
   ],
   "source": [
    "original = cv2.imread(\"lion.jpg\")\n",
    "compressed = cv2.imread(\"lion30.jpg\",1)\n",
    "\n",
    "value = PSNR(original, compressed)\n",
    "value = round(value,2)\n",
    "\n",
    "s = ssim(original, compressed,multichannel=True)\n",
    "s=round(s,2)\n",
    "\n",
    "cr = get_file_size('lion.jpg')/get_file_size('lion30.jpg')\n",
    "cr = round(cr,2)\n",
    "\n",
    "print(f\"Compression Ratio is {cr}\")\n",
    "print(f\"PSNR value is {value} dB\")\n",
    "print(f\"SSIM value is {s}\")"
   ]
  },
  {
   "cell_type": "code",
   "execution_count": 29,
   "metadata": {},
   "outputs": [
    {
     "name": "stdout",
     "output_type": "stream",
     "text": [
      "Compression Ratio is 2.51\n",
      "PSNR value is 29.97 dB\n",
      "SSIM value is 0.54\n"
     ]
    }
   ],
   "source": [
    "original = cv2.imread(\"lion.jpg\")\n",
    "compressed = cv2.imread(\"lion60.jpg\",1)\n",
    "\n",
    "value = PSNR(original, compressed)\n",
    "value = round(value,2)\n",
    "\n",
    "s = ssim(original, compressed,multichannel=True)\n",
    "s=round(s,2)\n",
    "\n",
    "cr = get_file_size('lion.jpg')/get_file_size('lion60.jpg')\n",
    "cr = round(cr,2)\n",
    "\n",
    "print(f\"Compression Ratio is {cr}\")\n",
    "print(f\"PSNR value is {value} dB\")\n",
    "print(f\"SSIM value is {s}\")"
   ]
  },
  {
   "cell_type": "code",
   "execution_count": 30,
   "metadata": {},
   "outputs": [
    {
     "name": "stdout",
     "output_type": "stream",
     "text": [
      "Compression Ratio is 1.95\n",
      "PSNR value is 30.68 dB\n",
      "SSIM value is 0.69\n"
     ]
    }
   ],
   "source": [
    "original = cv2.imread(\"parrot.jpg\")\n",
    "compressed = cv2.imread(\"parrot10.jpg\",1)\n",
    "\n",
    "value = PSNR(original, compressed)\n",
    "value = round(value,2)\n",
    "\n",
    "s = ssim(original, compressed,multichannel=True)\n",
    "s=round(s,2)\n",
    "\n",
    "cr = get_file_size('parrot.jpg')/get_file_size('parrot10.jpg')\n",
    "cr = round(cr,2)\n",
    "\n",
    "print(f\"Compression Ratio is {cr}\")\n",
    "print(f\"PSNR value is {value} dB\")\n",
    "print(f\"SSIM value is {s}\")"
   ]
  },
  {
   "cell_type": "code",
   "execution_count": 31,
   "metadata": {},
   "outputs": [
    {
     "name": "stdout",
     "output_type": "stream",
     "text": [
      "Compression Ratio is 1.47\n",
      "PSNR value is 32.15 dB\n",
      "SSIM value is 0.74\n"
     ]
    }
   ],
   "source": [
    "original = cv2.imread(\"parrot.jpg\")\n",
    "compressed = cv2.imread(\"parrot30.jpg\",1)\n",
    "\n",
    "value = PSNR(original, compressed)\n",
    "value = round(value,2)\n",
    "\n",
    "s = ssim(original, compressed,multichannel=True)\n",
    "s=round(s,2)\n",
    "\n",
    "cr = get_file_size('parrot.jpg')/get_file_size('parrot30.jpg')\n",
    "cr = round(cr,2)\n",
    "\n",
    "print(f\"Compression Ratio is {cr}\")\n",
    "print(f\"PSNR value is {value} dB\")\n",
    "print(f\"SSIM value is {s}\")"
   ]
  },
  {
   "cell_type": "code",
   "execution_count": 32,
   "metadata": {},
   "outputs": [
    {
     "name": "stdout",
     "output_type": "stream",
     "text": [
      "Compression Ratio is 1.3\n",
      "PSNR value is 33.26 dB\n",
      "SSIM value is 0.78\n"
     ]
    }
   ],
   "source": [
    "original = cv2.imread(\"parrot.jpg\")\n",
    "compressed = cv2.imread(\"parrot60.jpg\",1)\n",
    "\n",
    "value = PSNR(original, compressed)\n",
    "value = round(value,2)\n",
    "\n",
    "s = ssim(original, compressed,multichannel=True)\n",
    "s=round(s,2)\n",
    "\n",
    "cr = get_file_size('parrot.jpg')/get_file_size('parrot60.jpg')\n",
    "cr = round(cr,2)\n",
    "\n",
    "print(f\"Compression Ratio is {cr}\")\n",
    "print(f\"PSNR value is {value} dB\")\n",
    "print(f\"SSIM value is {s}\")"
   ]
  },
  {
   "cell_type": "code",
   "execution_count": 39,
   "metadata": {},
   "outputs": [
    {
     "name": "stdout",
     "output_type": "stream",
     "text": [
      "Compression Ratio is 4.47\n",
      "PSNR value is 28.7 dB\n",
      "SSIM value is 0.28\n"
     ]
    }
   ],
   "source": [
    "original = cv2.imread(\"spider.jpg\")\n",
    "compressed = cv2.imread(\"spider10.jpg\",1)\n",
    "\n",
    "value = PSNR(original, compressed)\n",
    "value = round(value,2)\n",
    "\n",
    "s = ssim(original, compressed,multichannel=True)\n",
    "s=round(s,2)\n",
    "\n",
    "cr = get_file_size('spider.jpg')/get_file_size('spider10.jpg')\n",
    "cr = round(cr,2)\n",
    "\n",
    "print(f\"Compression Ratio is {cr}\")\n",
    "print(f\"PSNR value is {value} dB\")\n",
    "print(f\"SSIM value is {s}\")"
   ]
  },
  {
   "cell_type": "code",
   "execution_count": 40,
   "metadata": {},
   "outputs": [
    {
     "name": "stdout",
     "output_type": "stream",
     "text": [
      "Compression Ratio is 2.94\n",
      "PSNR value is 28.99 dB\n",
      "SSIM value is 0.37\n"
     ]
    }
   ],
   "source": [
    "original = cv2.imread(\"spider.jpg\")\n",
    "compressed = cv2.imread(\"spider30.jpg\",1)\n",
    "\n",
    "value = PSNR(original, compressed)\n",
    "value = round(value,2)\n",
    "\n",
    "s = ssim(original, compressed,multichannel=True)\n",
    "s=round(s,2)\n",
    "\n",
    "cr = get_file_size('spider.jpg')/get_file_size('spider30.jpg')\n",
    "cr = round(cr,2)\n",
    "\n",
    "print(f\"Compression Ratio is {cr}\")\n",
    "print(f\"PSNR value is {value} dB\")\n",
    "print(f\"SSIM value is {s}\")"
   ]
  },
  {
   "cell_type": "code",
   "execution_count": 41,
   "metadata": {},
   "outputs": [
    {
     "name": "stdout",
     "output_type": "stream",
     "text": [
      "Compression Ratio is 2.27\n",
      "PSNR value is 29.33 dB\n",
      "SSIM value is 0.5\n"
     ]
    }
   ],
   "source": [
    "original = cv2.imread(\"spider.jpg\")\n",
    "compressed = cv2.imread(\"spider60.jpg\",1)\n",
    "\n",
    "value = PSNR(original, compressed)\n",
    "value = round(value,2)\n",
    "\n",
    "s = ssim(original, compressed,multichannel=True)\n",
    "s=round(s,2)\n",
    "\n",
    "cr = get_file_size('spider.jpg')/get_file_size('spider60.jpg')\n",
    "cr = round(cr,2)\n",
    "\n",
    "print(f\"Compression Ratio is {cr}\")\n",
    "print(f\"PSNR value is {value} dB\")\n",
    "print(f\"SSIM value is {s}\")"
   ]
  },
  {
   "cell_type": "code",
   "execution_count": 42,
   "metadata": {},
   "outputs": [
    {
     "name": "stdout",
     "output_type": "stream",
     "text": [
      "Compression Ratio is 1.49\n",
      "PSNR value is 30.8 dB\n",
      "SSIM value is 0.72\n"
     ]
    }
   ],
   "source": [
    "original = cv2.imread(\"waterfall.jpg\")\n",
    "compressed = cv2.imread(\"waterfall10.jpg\",1)\n",
    "\n",
    "value = PSNR(original, compressed)\n",
    "value = round(value,2)\n",
    "\n",
    "s = ssim(original, compressed,multichannel=True)\n",
    "s=round(s,2)\n",
    "\n",
    "cr = get_file_size('waterfall.jpg')/get_file_size('waterfall10.jpg')\n",
    "cr = round(cr,2)\n",
    "\n",
    "print(f\"Compression Ratio is {cr}\")\n",
    "print(f\"PSNR value is {value} dB\")\n",
    "print(f\"SSIM value is {s}\")"
   ]
  },
  {
   "cell_type": "code",
   "execution_count": 43,
   "metadata": {},
   "outputs": [
    {
     "name": "stdout",
     "output_type": "stream",
     "text": [
      "Compression Ratio is 1.18\n",
      "PSNR value is 32.72 dB\n",
      "SSIM value is 0.77\n"
     ]
    }
   ],
   "source": [
    "original = cv2.imread(\"waterfall.jpg\")\n",
    "compressed = cv2.imread(\"waterfall30.jpg\",1)\n",
    "\n",
    "value = PSNR(original, compressed)\n",
    "value = round(value,2)\n",
    "\n",
    "s = ssim(original, compressed,multichannel=True)\n",
    "s=round(s,2)\n",
    "\n",
    "cr = get_file_size('waterfall.jpg')/get_file_size('waterfall30.jpg')\n",
    "cr = round(cr,2)\n",
    "\n",
    "print(f\"Compression Ratio is {cr}\")\n",
    "print(f\"PSNR value is {value} dB\")\n",
    "print(f\"SSIM value is {s}\")"
   ]
  },
  {
   "cell_type": "code",
   "execution_count": 44,
   "metadata": {},
   "outputs": [
    {
     "name": "stdout",
     "output_type": "stream",
     "text": [
      "Compression Ratio is 1.01\n",
      "PSNR value is 33.8 dB\n",
      "SSIM value is 0.83\n"
     ]
    }
   ],
   "source": [
    "original = cv2.imread(\"waterfall.jpg\")\n",
    "compressed = cv2.imread(\"waterfall60.jpg\",1)\n",
    "\n",
    "value = PSNR(original, compressed)\n",
    "value = round(value,2)\n",
    "\n",
    "s = ssim(original, compressed,multichannel=True)\n",
    "s=round(s,2)\n",
    "\n",
    "cr = get_file_size('waterfall.jpg')/get_file_size('waterfall60.jpg')\n",
    "cr = round(cr,2)\n",
    "\n",
    "print(f\"Compression Ratio is {cr}\")\n",
    "print(f\"PSNR value is {value} dB\")\n",
    "print(f\"SSIM value is {s}\")"
   ]
  },
  {
   "cell_type": "code",
   "execution_count": null,
   "metadata": {},
   "outputs": [],
   "source": []
  },
  {
   "cell_type": "code",
   "execution_count": null,
   "metadata": {},
   "outputs": [],
   "source": []
  }
 ],
 "metadata": {
  "kernelspec": {
   "display_name": "Python 3",
   "language": "python",
   "name": "python3"
  },
  "language_info": {
   "codemirror_mode": {
    "name": "ipython",
    "version": 3
   },
   "file_extension": ".py",
   "mimetype": "text/x-python",
   "name": "python",
   "nbconvert_exporter": "python",
   "pygments_lexer": "ipython3",
   "version": "3.8.5"
  }
 },
 "nbformat": 4,
 "nbformat_minor": 4
}
